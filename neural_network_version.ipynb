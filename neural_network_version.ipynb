{
  "cells": [
    {
      "cell_type": "markdown",
      "metadata": {
        "id": "view-in-github",
        "colab_type": "text"
      },
      "source": [
        "<a href=\"https://colab.research.google.com/github/psong5/Twitter-Hate-Speech-Detection-Using-Various-Machine-Learning-Models/blob/main/neural_network_version.ipynb\" target=\"_parent\"><img src=\"https://colab.research.google.com/assets/colab-badge.svg\" alt=\"Open In Colab\"/></a>"
      ]
    },
    {
      "cell_type": "code",
      "execution_count": null,
      "metadata": {
        "id": "IqkHNloPPX50",
        "colab": {
          "base_uri": "https://localhost:8080/"
        },
        "outputId": "99588b42-dd9e-4802-9b23-47d90e2230d9"
      },
      "outputs": [
        {
          "output_type": "stream",
          "name": "stdout",
          "text": [
            "Mounted at /content/drive\n"
          ]
        }
      ],
      "source": [
        "from google.colab import drive\n",
        "\n",
        "drive.mount(\"/content/drive\", force_remount=True)"
      ]
    },
    {
      "cell_type": "code",
      "execution_count": null,
      "metadata": {
        "id": "Lf9OtAZ4PieT"
      },
      "outputs": [],
      "source": [
        "import pandas as pd\n",
        "import numpy as np\n",
        "\n",
        "X_train = pd.read_csv('/content/drive/My Drive/X_train_neural.csv')\n",
        "X_test = pd.read_csv('/content/drive/My Drive/X_test_neural.csv')\n",
        "y_train = pd.read_csv('/content/drive/My Drive/y_train_neural.csv')\n",
        "y_test = pd.read_csv('/content/drive/My Drive/y_test_neural.csv')\n",
        "\n",
        "\n"
      ]
    },
    {
      "cell_type": "code",
      "execution_count": null,
      "metadata": {
        "id": "CnnULAYfSHc8",
        "colab": {
          "base_uri": "https://localhost:8080/"
        },
        "outputId": "dc2e25c0-3dc2-4ea9-9248-8722d2395d7a"
      },
      "outputs": [
        {
          "output_type": "stream",
          "name": "stderr",
          "text": [
            "[nltk_data] Downloading package stopwords to /root/nltk_data...\n",
            "[nltk_data]   Unzipping corpora/stopwords.zip.\n",
            "[nltk_data] Downloading package wordnet to /root/nltk_data...\n"
          ]
        },
        {
          "output_type": "execute_result",
          "data": {
            "text/plain": [
              "True"
            ]
          },
          "metadata": {},
          "execution_count": 6
        }
      ],
      "source": [
        "from tensorflow.keras.preprocessing.text import Tokenizer\n",
        "from tensorflow.keras.preprocessing.sequence import pad_sequences\n",
        "from tensorflow.keras.models import Sequential\n",
        "from tensorflow.keras.layers import Embedding, LSTM, Dense, Dropout\n",
        "\n",
        "from keras.utils import to_categorical\n",
        "from keras import backend as K\n",
        "\n",
        "from sklearn.preprocessing import LabelEncoder\n",
        "from sklearn.model_selection import train_test_split\n",
        "\n",
        "import re\n",
        "import string\n",
        "import nltk\n",
        "nltk.download('stopwords')\n",
        "from nltk.corpus import stopwords\n",
        "from nltk.stem import WordNetLemmatizer\n",
        "from nltk.tokenize import word_tokenize\n",
        "nltk.download('wordnet')\n",
        "\n"
      ]
    },
    {
      "cell_type": "code",
      "execution_count": null,
      "metadata": {
        "id": "fkfdRVgSDTaN"
      },
      "outputs": [],
      "source": [
        "# Assuming X_train and X_test are Pandas DataFrames and you want to remove a column named 'Unnamed: 0'\n",
        "X_train = X_train.drop('Unnamed: 0', axis=1)\n",
        "X_test = X_test.drop('Unnamed: 0', axis=1)"
      ]
    },
    {
      "cell_type": "code",
      "execution_count": null,
      "metadata": {
        "id": "uglv4rq-E5Zb"
      },
      "outputs": [],
      "source": [
        "y_train = y_train.drop('Unnamed: 0', axis=1)\n",
        "y_test = y_test.drop('Unnamed: 0', axis =1)"
      ]
    },
    {
      "cell_type": "code",
      "execution_count": null,
      "metadata": {
        "id": "r-0OFk3DP_eg"
      },
      "outputs": [],
      "source": [
        "X_train['text'] = X_train.apply(lambda row: ' '.join(row.dropna().astype(str)), axis=1)\n",
        "X_test['text'] = X_test.apply(lambda row: ' '.join(row.dropna().astype(str)), axis=1)\n",
        "tokenizer = Tokenizer()\n",
        "tokenizer.fit_on_texts(X_train['text'])\n",
        "\n",
        "X_train_seq = tokenizer.texts_to_sequences(X_train['text'])\n",
        "X_test_seq = tokenizer.texts_to_sequences(X_test['text'])\n",
        "\n",
        "vocab_size = len(tokenizer.word_index) + 1\n"
      ]
    },
    {
      "cell_type": "code",
      "execution_count": null,
      "metadata": {
        "id": "ElSz6sHKQko7"
      },
      "outputs": [],
      "source": [
        "X_train_padded = pad_sequences(X_train_seq, padding='post') # 'post' means to pad at the end of sequences\n",
        "X_test_padded = pad_sequences(X_test_seq, maxlen=X_train_padded.shape[1], padding='post') # Use the same maxlen as X_train for consistency\n",
        "\n",
        "# Convert lists to NumPy arrays for TensorFlow\n",
        "X_train_array = np.array(X_train_padded)\n",
        "X_test_array = np.array(X_test_padded)"
      ]
    },
    {
      "cell_type": "code",
      "execution_count": null,
      "metadata": {
        "id": "Km13UuwpN7t2"
      },
      "outputs": [],
      "source": [
        "X_test[23] = np.nan\n",
        "X_test[24] = np.nan"
      ]
    },
    {
      "cell_type": "code",
      "execution_count": null,
      "metadata": {
        "id": "DFA5ZLGpB7yX"
      },
      "outputs": [],
      "source": [
        "# hote labels\n",
        "y_test = to_categorical(y_test, num_classes=3)\n",
        "y_train = to_categorical(y_train, num_classes=3)"
      ]
    },
    {
      "cell_type": "code",
      "execution_count": null,
      "metadata": {
        "id": "aOBJkn7_3o9n"
      },
      "outputs": [],
      "source": [
        "def recall_modified(y_true, y_pred):\n",
        "    tp = K.sum(K.round(K.clip(y_true * y_pred, 0, 1)))\n",
        "    total_actual_positives = K.sum(K.round(K.clip(y_true, 0, 1)))\n",
        "    recalculated_recall = tp / (total_actual_positives + K.epsilon())\n",
        "    return recalculated_recall\n",
        "\n",
        "def precision_modified(y_true, y_pred):\n",
        "    tp = K.sum(K.round(K.clip(y_true * y_pred, 0, 1)))\n",
        "    total_predicted_positives = K.sum(K.round(K.clip(y_pred, 0, 1)))\n",
        "    recalculated_precision = tp / (total_predicted_positives + K.epsilon())\n",
        "    return recalculated_precision\n",
        "\n",
        "def f1_score(y_true, y_pred):\n",
        "    calculated_precision = precision_modified(y_true, y_pred)\n",
        "    calculated_recall = recall_modified(y_true, y_pred)\n",
        "    return 2 * ((calculated_precision * calculated_recall) / (calculated_precision + calculated_recall + K.epsilon()))\n"
      ]
    },
    {
      "cell_type": "code",
      "execution_count": null,
      "metadata": {
        "id": "McAzhnty3p9P"
      },
      "outputs": [],
      "source": [
        "\n",
        "output_dim = 200\n",
        "\n",
        "# LSTM model architechture ... all of this is explained by the table at the very bottom\n",
        "model = Sequential([\n",
        "    Embedding(vocab_size, output_dim),\n",
        "    LSTM(64, dropout=0.3, recurrent_dropout=0.3),\n",
        "    Dropout(0.5),\n",
        "    Dense(128, activation=\"relu\"),\n",
        "    Dropout(0.5),\n",
        "    Dense(3, activation=\"softmax\"),\n",
        "])\n",
        "\n",
        "model.compile(optimizer='adam', loss='categorical_crossentropy', metrics=['accuracy',f1,precision, recall])"
      ]
    },
    {
      "cell_type": "code",
      "execution_count": null,
      "metadata": {
        "id": "RX7dG4aRNZWz"
      },
      "outputs": [],
      "source": [
        "import tensorflow as tf"
      ]
    },
    {
      "cell_type": "code",
      "execution_count": null,
      "metadata": {
        "id": "ri9RE38GBtYW",
        "colab": {
          "base_uri": "https://localhost:8080/"
        },
        "outputId": "737ab727-3cdb-41d2-d931-aaa9232168ea"
      },
      "outputs": [
        {
          "output_type": "stream",
          "name": "stdout",
          "text": [
            "Epoch 1/5\n",
            "310/310 [==============================] - 65s 191ms/step - loss: 0.5028 - accuracy: 0.8320 - f1: 0.8113 - precision: 0.8441 - recall: 0.7884 - val_loss: 0.3619 - val_accuracy: 0.8866 - val_f1: 0.8840 - val_precision: 0.8963 - val_recall: 0.8723\n",
            "Epoch 2/5\n",
            "310/310 [==============================] - 63s 204ms/step - loss: 0.2847 - accuracy: 0.9086 - f1: 0.9089 - precision: 0.9253 - recall: 0.8935 - val_loss: 0.3383 - val_accuracy: 0.8864 - val_f1: 0.8857 - val_precision: 0.8981 - val_recall: 0.8739\n",
            "Epoch 3/5\n",
            "310/310 [==============================] - 59s 189ms/step - loss: 0.1964 - accuracy: 0.9318 - f1: 0.9321 - precision: 0.9432 - recall: 0.9216 - val_loss: 0.3650 - val_accuracy: 0.8888 - val_f1: 0.8893 - val_precision: 0.8950 - val_recall: 0.8837\n",
            "Epoch 4/5\n",
            "310/310 [==============================] - 58s 189ms/step - loss: 0.1373 - accuracy: 0.9566 - f1: 0.9564 - precision: 0.9608 - recall: 0.9521 - val_loss: 0.4734 - val_accuracy: 0.8824 - val_f1: 0.8816 - val_precision: 0.8867 - val_recall: 0.8765\n",
            "Epoch 5/5\n",
            "310/310 [==============================] - 61s 196ms/step - loss: 0.0934 - accuracy: 0.9722 - f1: 0.9718 - precision: 0.9742 - recall: 0.9695 - val_loss: 0.6035 - val_accuracy: 0.8705 - val_f1: 0.8708 - val_precision: 0.8741 - val_recall: 0.8675\n"
          ]
        }
      ],
      "source": [
        "model_history = model.fit(\n",
        "    X_train_array,\n",
        "    y_train,\n",
        "    batch_size = 64,\n",
        "    epochs=5,\n",
        "    validation_data=(X_test_array, y_test)\n",
        ")"
      ]
    },
    {
      "cell_type": "code",
      "source": [
        "y_pred = model.predict(X_test_array)"
      ],
      "metadata": {
        "colab": {
          "base_uri": "https://localhost:8080/"
        },
        "id": "_a0q9qIOTP3P",
        "outputId": "7657cee6-c53a-47b2-ca5c-6c18fca64a87"
      },
      "execution_count": null,
      "outputs": [
        {
          "output_type": "stream",
          "name": "stdout",
          "text": [
            "155/155 [==============================] - 2s 10ms/step\n"
          ]
        }
      ]
    },
    {
      "cell_type": "code",
      "source": [
        "print (y_test)\n",
        "print (y_pred)\n",
        "\n",
        "y_test = np.argmax(y_test, axis=1)\n",
        "y_pred = np.argmax(y_pred, axis=1)\n",
        "\n",
        "print (y_test)\n",
        "print (y_pred)"
      ],
      "metadata": {
        "colab": {
          "base_uri": "https://localhost:8080/"
        },
        "id": "wFm5A_WXUHAS",
        "outputId": "de259b77-3e7e-4044-d6ce-eba0eae7f9bd"
      },
      "execution_count": null,
      "outputs": [
        {
          "output_type": "stream",
          "name": "stdout",
          "text": [
            "[[0. 1. 0.]\n",
            " [0. 1. 0.]\n",
            " [0. 1. 0.]\n",
            " ...\n",
            " [0. 1. 0.]\n",
            " [0. 1. 0.]\n",
            " [0. 0. 1.]]\n",
            "[[2.7846934e-03 9.9711055e-01 1.0477608e-04]\n",
            " [6.2262558e-04 9.9935013e-01 2.7333010e-05]\n",
            " [1.2661618e-03 9.9868357e-01 5.0247811e-05]\n",
            " ...\n",
            " [6.3975586e-04 9.9933273e-01 2.7478947e-05]\n",
            " [3.2211545e-01 6.6344303e-01 1.4441613e-02]\n",
            " [1.7854389e-03 2.4369648e-03 9.9577761e-01]]\n",
            "[1 1 1 ... 1 1 2]\n",
            "[1 1 1 ... 1 1 2]\n"
          ]
        }
      ]
    },
    {
      "cell_type": "code",
      "execution_count": null,
      "metadata": {
        "id": "OBFtqaJjPPSz",
        "colab": {
          "base_uri": "https://localhost:8080/",
          "height": 472
        },
        "outputId": "dcbbe42c-9821-4ccb-f7c3-e259f6bdcfc0"
      },
      "outputs": [
        {
          "output_type": "display_data",
          "data": {
            "text/plain": [
              "<Figure size 640x480 with 2 Axes>"
            ],
            "image/png": "[encoded data removed]"
          },
          "metadata": {}
        }
      ],
      "source": [
        "import matplotlib.pyplot as plt\n",
        "import seaborn as sns\n",
        "from sklearn.metrics import confusion_matrix\n",
        "\n",
        "labels = ['True Neg', 'False Pos', 'False Neg', 'True Pos']\n",
        "categories = ['0', '1', '2']\n",
        "\n",
        "cm = confusion_matrix(y_test, y_pred)\n",
        "cm_df= pd.DataFrame(cm,index=categories,columns=categories)\n",
        "sns.heatmap(data=cm_df, fmt='d', cmap='Blues', annot=True, xticklabels=categories, yticklabels=categories)\n",
        "plt.xlabel('Predicted')\n",
        "plt.ylabel('Actual')\n",
        "plt.title('Confusion Matrix')\n",
        "plt.show()"
      ]
    },
    {
      "cell_type": "code",
      "source": [
        "model.summary()"
      ],
      "metadata": {
        "colab": {
          "base_uri": "https://localhost:8080/"
        },
        "id": "SRUbwh2TVP9_",
        "outputId": "91e44b87-b7ba-4547-fb90-b93aecd0212e"
      },
      "execution_count": null,
      "outputs": [
        {
          "output_type": "stream",
          "name": "stdout",
          "text": [
            "Model: \"sequential\"\n",
            "_________________________________________________________________\n",
            " Layer (type)                Output Shape              Param #   \n",
            "=================================================================\n",
            " embedding (Embedding)       (None, None, 200)         4919600   \n",
            "                                                                 \n",
            " lstm (LSTM)                 (None, 64)                67840     \n",
            "                                                                 \n",
            " dropout (Dropout)           (None, 64)                0         \n",
            "                                                                 \n",
            " dense (Dense)               (None, 128)               8320      \n",
            "                                                                 \n",
            " dropout_1 (Dropout)         (None, 128)               0         \n",
            "                                                                 \n",
            " dense_1 (Dense)             (None, 3)                 387       \n",
            "                                                                 \n",
            "=================================================================\n",
            "Total params: 4996147 (19.06 MB)\n",
            "Trainable params: 4996147 (19.06 MB)\n",
            "Non-trainable params: 0 (0.00 Byte)\n",
            "_________________________________________________________________\n"
          ]
        }
      ]
    }
  ],
  "metadata": {
    "colab": {
      "provenance": [],
      "include_colab_link": true
    },
    "kernelspec": {
      "display_name": "Python 3",
      "name": "python3"
    },
    "language_info": {
      "name": "python"
    }
  },
  "nbformat": 4,
  "nbformat_minor": 0
}